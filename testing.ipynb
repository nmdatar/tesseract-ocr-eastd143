{
 "cells": [
  {
   "cell_type": "code",
   "execution_count": 1,
   "metadata": {},
   "outputs": [
    {
     "name": "stdout",
     "output_type": "stream",
     "text": [
      "Requirement already satisfied: pytesseract in /usr/local/python/3.10.4/lib/python3.10/site-packages (0.3.10)\n",
      "Requirement already satisfied: Pillow>=8.0.0 in /home/codespace/.local/lib/python3.10/site-packages (from pytesseract) (9.4.0)\n",
      "Requirement already satisfied: packaging>=21.3 in /home/codespace/.local/lib/python3.10/site-packages (from pytesseract) (23.0)\n",
      "Note: you may need to restart the kernel to use updated packages.\n"
     ]
    }
   ],
   "source": [
    "pip install pytesseract"
   ]
  },
  {
   "cell_type": "code",
   "execution_count": 2,
   "metadata": {},
   "outputs": [
    {
     "name": "stderr",
     "output_type": "stream",
     "text": [
      "2023-04-09 19:58:24.619 \n",
      "  \u001b[33m\u001b[1mWarning:\u001b[0m to view this Streamlit app on a browser, run it with the following\n",
      "  command:\n",
      "\n",
      "    streamlit run /home/codespace/.local/lib/python3.10/site-packages/ipykernel_launcher.py [ARGUMENTS]\n"
     ]
    }
   ],
   "source": [
    "import streamlit as st\n",
    "import pandas as pd\n",
    "import pytesseract\n",
    "from typing import List, Tuple\n",
    "from io import BytesIO\n",
    "from PIL import Image\n",
    "\n",
    "tesseract_codes = {\n",
    "    'Chinese (Simplified)' : 'chi_sim',\n",
    "    'Chinese (Traditional)' : 'chi_tra',\n",
    "    'English' : 'eng',\n",
    "    'Japanese' : 'jpn',\n",
    "    'Korean' : 'kor',\n",
    "    'Vietnamese' : 'vie',\n",
    "    'Tagolog' : 'tgl',\n",
    "}\n",
    "\n",
    "def extract_text(files: List = [], languages: List[str] = []) -> None:\n",
    "    \n",
    "    languages = [tesseract_codes[lang] for lang in languages]\n",
    "    formatted_languages = \"+\".join(languages)\n",
    "    \n",
    "    display = pd.DataFrame(columns=['file_name', 'extracted_text'])\n",
    "  \n",
    "    for file in files:\n",
    "        file_bytes = BytesIO(file.getvalue())\n",
    "        file_image = Image.open(file_bytes)\n",
    "        extracted_text = pytesseract.image_to_string(image=file_image, lang=formatted_languages)\n",
    "        display.append({'file_name' : file.name, 'extracted_text': extracted_text}, ignore_index=True)\n",
    "\n",
    "    st.dataframe(display)\n",
    "\n",
    "    download_display_data = display.to_csv(index=False).encode('utf-8')\n",
    "\n",
    "    st.download_button(\n",
    "    label=\"Download data as CSV\",\n",
    "    data=download_display_data,\n",
    "    file_name='ocr_extraction.csv',\n",
    "    mime='text/csv',\n",
    ")\n",
    "\n",
    "\n",
    "uploaded_files = st.file_uploader(label=\"Choose a file\", accept_multiple_files=True, type=['png', 'jpg'])\n",
    "if uploaded_files is not None:\n",
    "\n",
    "    options = st.multiselect(\n",
    "    'Select a language or multiple to perform OCR on!',\n",
    "    ['English', 'Chinese (Simplified)', 'Japanese', 'Korean', 'Vietnamese', 'Tagalog', 'Chinese (Traditional)'],\n",
    "    ['English'])\n",
    "\n",
    "    st.button('Initiate the OCR :)', on_click=extract_text, args=(uploaded_files, options))"
   ]
  },
  {
   "cell_type": "code",
   "execution_count": null,
   "metadata": {},
   "outputs": [],
   "source": []
  }
 ],
 "metadata": {
  "kernelspec": {
   "display_name": "Python 3",
   "language": "python",
   "name": "python3"
  },
  "language_info": {
   "codemirror_mode": {
    "name": "ipython",
    "version": 3
   },
   "file_extension": ".py",
   "mimetype": "text/x-python",
   "name": "python",
   "nbconvert_exporter": "python",
   "pygments_lexer": "ipython3",
   "version": "3.10.4"
  },
  "orig_nbformat": 4
 },
 "nbformat": 4,
 "nbformat_minor": 2
}
